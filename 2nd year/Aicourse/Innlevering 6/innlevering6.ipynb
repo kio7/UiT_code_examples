{
 "cells": [
  {
   "cell_type": "raw",
   "metadata": {},
   "source": [
    "The following dict represents a number of fictional planets. \n",
    "Each key in the dict is the name of a planet, while the value, in this case another dict, represents planets you can travel to from this planet. \n",
    "The values inside the inner dicts represents the fuel cost associated with travelling to these planets. \n",
    "You want to optimize the fuel cost when travelling between planets, and so you turn to Dijkstra's algorithm."
   ]
  },
  {
   "cell_type": "code",
   "execution_count": 2,
   "metadata": {},
   "outputs": [],
   "source": [
    "graph = {\n",
    "    'aranos': {'barlow': 14, 'daxx': 7, 'yeedil': 9},\n",
    "    'boldan': {'barlow': 9, 'oozla': 6},\n",
    "    'barlow': {'aranos': 14, 'boldan': 9, 'yeedil': 2},\n",
    "    'daxx': {'aranos': 7, 'yeedil': 10, 'oozla': 16},\n",
    "    'yeedil': {'aranos': 9, 'barlow': 2, 'daxx': 10, 'oozla': 11},\n",
    "    'oozla': {'boldan': 6, 'daxx': 16, 'yeedil': 11},\n",
    "}"
   ]
  },
  {
   "cell_type": "raw",
   "metadata": {},
   "source": [
    "Write a function that uses Dijkstra's algorithm to find the shortest path between 2 nodes in a graph represented by a dict of dicts. \n",
    "Using your function, print the shortest path(nodes visited) and cost between:\n",
    "a) from Aranos to Boldan\n",
    "b) from Barlow to Aranos\n",
    "c) from Daxx to Boldan"
   ]
  },
  {
   "cell_type": "code",
   "execution_count": 13,
   "metadata": {},
   "outputs": [
    {
     "name": "stdout",
     "output_type": "stream",
     "text": [
      "Distance: 20.0, Path: ['aranos', 'yeedil', 'barlow', 'boldan']\n",
      "Distance: 11.0, Path: ['barlow', 'yeedil', 'aranos']\n",
      "Distance: 21.0, Path: ['daxx', 'yeedil', 'barlow', 'boldan']\n"
     ]
    }
   ],
   "source": [
    "\n",
    "from queue import PriorityQueue\n",
    "\n",
    "\n",
    "def dijkstra(graph:dict, take_off:str, arrival:str):\n",
    "    # Psuedo code: find the shortest distance and print the path.\n",
    "    \n",
    "    q = PriorityQueue()\n",
    "    current = '' # Variable for the planet we're visiting\n",
    "    visited = []\n",
    "    my_graph = {} # To not change the input graph i make my own with distances set to inf\n",
    "    my_graph[take_off] = [0.0, ''] # Starting planet needs distance 0 and 2nd value is 'coming from'\n",
    "    path = [arrival]\n",
    "\n",
    "    current = take_off # Starting position aquired.\n",
    "    for key in graph.keys():\n",
    "        if key not in my_graph.keys():\n",
    "            my_graph[key] = [float('inf'), '']\n",
    "\n",
    "\n",
    "    while current != arrival:\n",
    "        looking_at:dict = graph[current]\n",
    "        visited.append(current)\n",
    "\n",
    "        for key, value in looking_at.items():\n",
    "            if key in visited: continue\n",
    "            q.put((value, key))\n",
    "\n",
    "        for key, value in looking_at.items():\n",
    "            if my_graph[key][0] > (my_graph[current][0] + value): \n",
    "                my_graph[key] = [my_graph[current][0] + value, current]\n",
    "\n",
    "        current = q.get()[1]\n",
    "    \n",
    "    # Make path in reverse from target to start.\n",
    "    current = arrival\n",
    "    \n",
    "    while path[-1] != take_off:\n",
    "        current = my_graph[current][1]\n",
    "        path.append(current)\n",
    "\n",
    "\n",
    "    path.reverse()\n",
    "    print(f\"Distance: {my_graph[arrival][0]}, Path: {path}\")\n",
    "\n",
    "\n",
    "dijkstra(graph, 'aranos', 'boldan')\n",
    "dijkstra(graph, 'barlow', 'aranos')\n",
    "dijkstra(graph, 'daxx', 'boldan')"
   ]
  }
 ],
 "metadata": {
  "kernelspec": {
   "display_name": "Python 3.10.7 64-bit",
   "language": "python",
   "name": "python3"
  },
  "language_info": {
   "codemirror_mode": {
    "name": "ipython",
    "version": 3
   },
   "file_extension": ".py",
   "mimetype": "text/x-python",
   "name": "python",
   "nbconvert_exporter": "python",
   "pygments_lexer": "ipython3",
   "version": "3.10.0"
  },
  "vscode": {
   "interpreter": {
    "hash": "8a34b1b85750e8828cebd85e6fd1a444c2c599454f21ff994e82d5da66d59d72"
   }
  }
 },
 "nbformat": 4,
 "nbformat_minor": 4
}
