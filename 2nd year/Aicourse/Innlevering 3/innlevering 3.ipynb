{
 "cells": [
  {
   "cell_type": "raw",
   "metadata": {},
   "source": [
    "1: Filen \"Personer.dta\" skal leses inn i en list persons. Filen inneholder 100 000 rader med fiktive personalia på formatet \"etternavn;fornavn;adresse;postnummer;poststed\". \n",
    "Dette skal gjøres i native Python, dvs. Numpy/Pandas eller andre libs skal ikke brukes. Legg hver rad inn i en passende datastruktur, feks. tuple, dict, list eller namedtuple. \n",
    "Skriv så ut de 5 siste radene i en celle."
   ]
  },
  {
   "cell_type": "code",
   "execution_count": 1,
   "metadata": {},
   "outputs": [
    {
     "name": "stdout",
     "output_type": "stream",
     "text": [
      "['STORLIEN', 'HANS-MAGNUS', 'TALLSLETTA 57', '3849', 'VRÅLIOSEN']\n",
      "['ASAIPPILLAI', 'JO GUDBRAND', 'BERGERUD 68', '4371', 'EGERSUND']\n",
      "['TOLLEFSEN', 'ZULFIQAR ALI', 'EIRIK JARLS GATE 79', '1305', 'HASLUM']\n",
      "['ELI', 'KNUT OLAF', 'RUSTAD S 14', '9775', 'GAMVIK']\n",
      "['NYRUD', 'ERIK NORØ', 'GJERDHAUGVEGEN 3', '6512', 'KRISTIANSUND N']\n"
     ]
    }
   ],
   "source": [
    "import os\n",
    "\n",
    "file_dir = os.path.dirname(__name__)\n",
    "\n",
    "persons = []\n",
    "\n",
    "with open(os.path.join(file_dir, \"Personer.dta\"), mode=\"r\", encoding=\"iso-8859-1\",) as file:\n",
    "    for line in file:\n",
    "        persons.append(line)\n",
    "\n",
    "temp_lis = []\n",
    "for i in range(len(persons)):\n",
    "    temp_lis = persons[i].strip().split(\";\")\n",
    "    persons[i] = temp_lis\n",
    "\n",
    "for i in persons[-5:]:\n",
    "    print(i)\n",
    "\n",
    "# Print blir fra siste element til femte siste.\n",
    "# Mulig implementasjon for rett rekkefølge:\n",
    "\n",
    "\n",
    "#for i in range(len(persons) - 5, len(persons) + 1):\n",
    "#    print(persons[i])\n"
   ]
  },
  {
   "cell_type": "raw",
   "metadata": {},
   "source": [
    "2: Hvor mange unike postnummer finnes i \"Personer.dta\"?"
   ]
  },
  {
   "cell_type": "code",
   "execution_count": 2,
   "metadata": {},
   "outputs": [
    {
     "name": "stdout",
     "output_type": "stream",
     "text": [
      "Antall unike postnummer: 2824\n"
     ]
    }
   ],
   "source": [
    "mail_number = {}\n",
    "for i in persons:\n",
    "    if i[3] in mail_number.keys():\n",
    "        mail_number[i[3]] += 1\n",
    "    else:\n",
    "        mail_number[i[3]] = 1\n",
    "\n",
    "print(f\"Antall unike postnummer: {len(mail_number)}\")"
   ]
  },
  {
   "cell_type": "raw",
   "metadata": {},
   "source": [
    "3: Hva er de 10 vanligste etternavnene (som forekommer flest ganger) i \"Personer.dta\"?"
   ]
  },
  {
   "cell_type": "code",
   "execution_count": 3,
   "metadata": {},
   "outputs": [
    {
     "name": "stdout",
     "output_type": "stream",
     "text": [
      "Navn: ÅSBAKK, antall ganger: 83\n",
      "Navn: BERGERSEN, antall ganger: 78\n",
      "Navn: TRANE, antall ganger: 77\n",
      "Navn: LUTHER, antall ganger: 77\n",
      "Navn: LUNDBERGSEN, antall ganger: 77\n",
      "Navn: DANIELSEN, antall ganger: 77\n",
      "Navn: MJØEN, antall ganger: 76\n",
      "Navn: LAM, antall ganger: 75\n",
      "Navn: KRANGSÅS, antall ganger: 75\n",
      "Navn: IGLAND, antall ganger: 75\n"
     ]
    }
   ],
   "source": [
    "last_names = {}\n",
    "for i in persons:\n",
    "    if i[0] in last_names.keys():\n",
    "        last_names[i[0]] += 1\n",
    "    else:\n",
    "        last_names[i[0]] = 1\n",
    "\n",
    "temp_lis = []\n",
    "for key, value in last_names.items():\n",
    "    temp_lis.append([value, key])\n",
    "\n",
    "for _ in range(10):\n",
    "    key = max(temp_lis)\n",
    "    print(f\"Navn: {key[1]}, antall ganger: {key[0]}\")\n",
    "    del(temp_lis[temp_lis.index(key)])\n"
   ]
  },
  {
   "cell_type": "raw",
   "metadata": {},
   "source": [
    "4: Implementer sorteringsalgoritmen Heap Sort og sorter listen \"persons\" ut fra etternavn. \n",
    "Ferdig implementerte funksjoner som sorted() skal ikke benyttes. \n",
    "Skriv så ut persondata for de fem personene med index [0,20000,40000,60000,80000] fra den sorterte listen."
   ]
  },
  {
   "cell_type": "code",
   "execution_count": 4,
   "metadata": {},
   "outputs": [
    {
     "name": "stdout",
     "output_type": "stream",
     "text": [
      "['AAKVIK', 'ANETTE', 'BAKLIEN 11', '1360', 'NESBRU']\n",
      "['ENGVOLL', 'TOM MIKAEL', 'KVAM ST 48', '1804', 'SPYDEBERG']\n",
      "['JERMOSEN', 'ÅGE RAYMOND', 'HATLEBAKKANE 6', '5236', 'RÅDAL']\n",
      "['MYRLUND', 'GAUTE', 'DYNESTØL 89', '7494', 'SINGSÅS']\n",
      "['SMITH', 'ARNT OLE', 'SAPPEN 39', '5852', 'BERGEN']\n"
     ]
    }
   ],
   "source": [
    "class Heap:\n",
    "    def __init__(self):\n",
    "        self.lst = []\n",
    "\n",
    "    # Add a new item into the lst \n",
    "    def add(self, e):\n",
    "        self.lst.append(e)  # Append to the lst\n",
    "        # The index of the last node\n",
    "        current_index = len(self.lst) - 1  \n",
    "    \n",
    "        while current_index > 0:\n",
    "            parent_index = (current_index - 1) // 2\n",
    "            # Swap if the current item is greater than its parent\n",
    "            if self.lst[current_index][0] > self.lst[parent_index][0]: \n",
    "                self.lst[current_index], self.lst[parent_index] = \\\n",
    "                    self.lst[parent_index], self.lst[current_index]\n",
    "            else:\n",
    "                break  # The tree is a lst now\n",
    "    \n",
    "            current_index = parent_index\n",
    "\n",
    "    # Remove the root from the lst \n",
    "    def remove(self):\n",
    "        if len(self.lst) == 0:\n",
    "            return None\n",
    "    \n",
    "        removed_item = self.lst[0]\n",
    "        self.lst[0] = self.lst[len(self.lst) - 1]\n",
    "        self.lst.pop(len(self.lst) - 1) # Remove the last item\n",
    "    \n",
    "        current_index = 0\n",
    "        while current_index < len(self.lst):\n",
    "            left_child_index = 2 * current_index + 1\n",
    "            right_child_index = 2 * current_index + 2\n",
    "          \n",
    "            # Find the maximum between two children\n",
    "            if left_child_index >= len(self.lst): \n",
    "                break  # The tree is a lst\n",
    "            max_index = left_child_index\n",
    "            if right_child_index < len(self.lst):\n",
    "                if self.lst[max_index] < self.lst[right_child_index]:\n",
    "                    max_index = right_child_index\n",
    "          \n",
    "            # Swap if the current node is less than the maximum \n",
    "            if self.lst[current_index] < self.lst[max_index]:\n",
    "                self.lst[max_index], self.lst[current_index] = \\\n",
    "                    self.lst[current_index], self.lst[max_index]\n",
    "                current_index = max_index\n",
    "            else:\n",
    "                break  # The tree is a lst\n",
    "    \n",
    "        return removed_item\n",
    "\n",
    "\n",
    "def heap_sort(lis:list):\n",
    "    heap = Heap() # Create a Heap \n",
    "\n",
    "    # Add elements to the heap\n",
    "    for v in lis:\n",
    "        heap.add(v)\n",
    "\n",
    "    # Remove elements from the heap\n",
    "    for i in range(len(lis)): \n",
    "        lis[len(lis) - 1 - i] = heap.remove()\n",
    "\n",
    "heap_sort(persons)\n",
    "\n",
    "print(persons[0])\n",
    "print(persons[20_000])\n",
    "print(persons[40_000])\n",
    "print(persons[60_000])\n",
    "print(persons[80_000])\n"
   ]
  },
  {
   "cell_type": "code",
   "execution_count": null,
   "metadata": {},
   "outputs": [],
   "source": []
  }
 ],
 "metadata": {
  "kernelspec": {
   "display_name": "Python 3.10.0 ('Maskinlæring_og_AI-5jO4pI8Y')",
   "language": "python",
   "name": "python3"
  },
  "language_info": {
   "codemirror_mode": {
    "name": "ipython",
    "version": 3
   },
   "file_extension": ".py",
   "mimetype": "text/x-python",
   "name": "python",
   "nbconvert_exporter": "python",
   "pygments_lexer": "ipython3",
   "version": "3.10.0"
  },
  "vscode": {
   "interpreter": {
    "hash": "85f551e17794b0a879a0312ec02be81361614ded1210c973bb7e0728d803566f"
   }
  }
 },
 "nbformat": 4,
 "nbformat_minor": 4
}
