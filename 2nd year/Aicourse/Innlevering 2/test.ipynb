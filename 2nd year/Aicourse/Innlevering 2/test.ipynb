{
 "cells": [
  {
   "cell_type": "code",
   "execution_count": 19,
   "metadata": {},
   "outputs": [
    {
     "name": "stdout",
     "output_type": "stream",
     "text": [
      "3\n"
     ]
    }
   ],
   "source": [
    "def length(var):\n",
    "    if var:\n",
    "        returnvar = length(var[:-1])\n",
    "        return returnvar + 1\n",
    "    else:\n",
    "        return 0\n",
    "    \n",
    "    \n",
    "    \n",
    "if __name__ == '__main__':\n",
    "    user_input = input('Enter a string and i will return the lenght of it: ')\n",
    "    print(length(user_input))\n",
    "\n"
   ]
  },
  {
   "cell_type": "code",
   "execution_count": 18,
   "metadata": {},
   "outputs": [
    {
     "name": "stdout",
     "output_type": "stream",
     "text": [
      "25\n",
      "125\n",
      "625\n"
     ]
    }
   ],
   "source": [
    "def intpow(x, n):\n",
    "    if n >= 1:\n",
    "        return x * intpow(x, n - 1)\n",
    "    else:\n",
    "        return 1\n",
    "\n",
    "\n",
    "if __name__ == '__main__':\n",
    "    print(intpow(5, 2))\n",
    "    print(intpow(5, 3))\n",
    "    print(intpow(5, 4))"
   ]
  }
 ],
 "metadata": {
  "kernelspec": {
   "display_name": "Python 3.10.0 64-bit",
   "language": "python",
   "name": "python3"
  },
  "language_info": {
   "codemirror_mode": {
    "name": "ipython",
    "version": 3
   },
   "file_extension": ".py",
   "mimetype": "text/x-python",
   "name": "python",
   "nbconvert_exporter": "python",
   "pygments_lexer": "ipython3",
   "version": "3.10.0"
  },
  "vscode": {
   "interpreter": {
    "hash": "8a34b1b85750e8828cebd85e6fd1a444c2c599454f21ff994e82d5da66d59d72"
   }
  }
 },
 "nbformat": 4,
 "nbformat_minor": 4
}
