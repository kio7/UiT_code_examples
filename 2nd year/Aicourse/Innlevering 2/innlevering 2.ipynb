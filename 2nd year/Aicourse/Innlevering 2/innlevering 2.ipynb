{
 "cells": [
  {
   "cell_type": "raw",
   "metadata": {},
   "source": [
    "1: Lag en Iterator Class som kan skrive ut Fibonacci-tallene mellom 0 og 1000"
   ]
  },
  {
   "cell_type": "code",
   "execution_count": 6,
   "metadata": {},
   "outputs": [
    {
     "name": "stdout",
     "output_type": "stream",
     "text": [
      "[0, 1, 1, 2, 3, 5, 8, 13, 21, 34, 55, 89, 144, 233, 377, 610, 987]\n"
     ]
    }
   ],
   "source": [
    "#kode for Oppgave 1 her, bruk flere celler hvis det trengs\n",
    "\n",
    "class Fib:\n",
    "    def __init__(self, limit):\n",
    "        self.limit = limit\n",
    "        self.f1 = 0\n",
    "        self.f2 = 1\n",
    "\n",
    "    def __next__(self):\n",
    "        current = self.f1\n",
    "        if current > self.limit:\n",
    "            raise StopIteration\n",
    "        \n",
    "        self.f1, self.f2 = self.f2, self.f1 + self.f2\n",
    "        return current\n",
    "\n",
    "    def __iter__(self):\n",
    "        return self\n",
    "\n",
    "\n",
    "max_limit = 1_000\n",
    "iterator = Fib(max_limit)\n",
    "lis = []\n",
    "for i in iterator:\n",
    "    lis.append(i)\n",
    "\n",
    "print(lis)\n",
    "\n"
   ]
  },
  {
   "cell_type": "raw",
   "metadata": {},
   "source": [
    "[0, 1, 1, 2, 3, 5, 8, 13, 21, 34, 55, 89, 144, 233, 377, 610, 987] #forventet output for oppgave 1"
   ]
  },
  {
   "cell_type": "raw",
   "metadata": {},
   "source": [
    "2: Lag en Generator Function som skriver ut Fibonacci-tallene mellom 0 og 1000"
   ]
  },
  {
   "cell_type": "code",
   "execution_count": 8,
   "metadata": {},
   "outputs": [
    {
     "name": "stdout",
     "output_type": "stream",
     "text": [
      "[0, 1, 1, 2, 3, 5, 8, 13, 21, 34, 55, 89, 144, 233, 377, 610, 987]\n"
     ]
    }
   ],
   "source": [
    "#kode for Oppgave 2 her, bruk flere celler hvis det trengs\n",
    "\n",
    "def fib_gen():\n",
    "    limit = 1_000\n",
    "    f1 = 0\n",
    "    f2 = 1\n",
    "    current = f1\n",
    "    \n",
    "    while current < limit:\n",
    "        f1, f2 = f2, f1 + f2\n",
    "        yield current\n",
    "        current = f1\n",
    "\n",
    "lis = []\n",
    "for i in fib_gen():\n",
    "    lis.append(i)\n",
    "\n",
    "print(lis)"
   ]
  },
  {
   "cell_type": "raw",
   "metadata": {},
   "source": [
    "[0, 1, 1, 2, 3, 5, 8, 13, 21, 34, 55, 89, 144, 233, 377, 610, 987] #forventet output for oppgave 2"
   ]
  },
  {
   "cell_type": "raw",
   "metadata": {},
   "source": [
    "3: Lag en Class NewInt som arver fra int. Den skal ha en Instance Method is_fibonacci() som returnerer True om tallet er et Fibonacci-tall, False hvis ikke. Generer en liste med NewInt fra 0 til 1000. Lag så en List Comprehension som kun beholder tallene som er Fibonacci ved hjelp av klassen og instansmetoden du lagde."
   ]
  },
  {
   "cell_type": "code",
   "execution_count": 9,
   "metadata": {},
   "outputs": [
    {
     "name": "stdout",
     "output_type": "stream",
     "text": [
      "[0, 1, 2, 3, 5, 8, 13, 21, 34, 55, 89, 144, 233, 377, 610, 987]\n"
     ]
    }
   ],
   "source": [
    "#kode for Oppgave 3 her, bruk flere celler hvis det trengs\n",
    "\n",
    "class NewInt(int):\n",
    "    def __init__(self, elm) -> None:\n",
    "        self.elm = elm\n",
    "\n",
    "    def is_fibonacci(self):\n",
    "        f1 = 0\n",
    "        f2 = 1\n",
    "        current = f1\n",
    "        lis = []\n",
    "        while current <= self.elm:\n",
    "            f1, f2 = f2, f1 + f2\n",
    "            lis.append(current)\n",
    "            current = f1\n",
    "\n",
    "        if self.elm in lis:\n",
    "            return True\n",
    "        return False\n",
    "\n",
    "\n",
    "new_int_lis = []\n",
    "for i in range(1000):\n",
    "    new_int_lis.append(NewInt(i))\n",
    "\n",
    "lis = [x for x in new_int_lis if x.is_fibonacci() == True]\n",
    "\n",
    "print(lis)"
   ]
  },
  {
   "cell_type": "raw",
   "metadata": {},
   "source": [
    "[0, 1, 2, 3, 5, 8, 13, 21, 34, 55, 89, 144, 233, 377, 610, 987] #forventet output for oppgave 3"
   ]
  },
  {
   "cell_type": "raw",
   "metadata": {},
   "source": [
    "4: Lag en liste int_list med NewInt fra 0 til 100 000. Lag deretter et set() fib_set med Fibonacci-tallene mellom 0 og 100 000 med fremgangsmåte du selv velger. Lag en List Comprehension som sjekker int_list mot fib_set. Sammenlign deretter performance mot klassen og metoden du lagde i oppgave 3 for å se hva som er raskest.  Tips: Sjekk performance med %%timeit i en notebook-celle."
   ]
  },
  {
   "cell_type": "code",
   "execution_count": 10,
   "metadata": {},
   "outputs": [
    {
     "name": "stdout",
     "output_type": "stream",
     "text": [
      "407468100\n",
      "93200\n"
     ]
    }
   ],
   "source": [
    "#kode for Oppgave 4 her, bruk flere celler hvis det trengs\n",
    "\n",
    "import time\n",
    "\n",
    "int_lis = []\n",
    "for i in range(100_000):\n",
    "    int_lis.append(NewInt(i))\n",
    "\n",
    "start_1 = time.perf_counter_ns()\n",
    "lis = [x for x in int_lis if x.is_fibonacci() == True]\n",
    "end_1 = time.perf_counter_ns()\n",
    "print(end_1 - start_1)\n",
    "\n",
    "fib_set = set(int_lis)\n",
    "\n",
    "start = time.perf_counter_ns()\n",
    "check_lis = [x for x in lis if x in fib_set]\n",
    "end = time.perf_counter_ns()\n",
    "\n",
    "print(end - start)"
   ]
  },
  {
   "cell_type": "raw",
   "metadata": {},
   "source": [
    "#Kommentarer til oppgave 4 her\n",
    "\n",
    "# Klassen er mye tregere enn å bruke et set for å bruke til sammenligning."
   ]
  }
 ],
 "metadata": {
  "kernelspec": {
   "display_name": "Python 3 (ipykernel)",
   "language": "python",
   "name": "python3"
  },
  "language_info": {
   "codemirror_mode": {
    "name": "ipython",
    "version": 3
   },
   "file_extension": ".py",
   "mimetype": "text/x-python",
   "name": "python",
   "nbconvert_exporter": "python",
   "pygments_lexer": "ipython3",
   "version": "3.10.6"
  }
 },
 "nbformat": 4,
 "nbformat_minor": 4
}
